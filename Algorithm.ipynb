{
 "cells": [
  {
   "cell_type": "code",
   "execution_count": 2,
   "id": "3831d592-1dc1-49b6-8943-f2c55a07dfb4",
   "metadata": {},
   "outputs": [],
   "source": [
    "from sklearn.linear_model import LinearRegression\n",
    "from sklearn.linear_model import LogisticRegression\n",
    "from sklearn.tree import DecisionTreeRegressor\n",
    "from sklearn.ensemble import RandomForestRegressor\n",
    "from sklearn.svm import SVR\n",
    "from sklearn.neighbors import KNeighborsRegressor\n",
    "from sklearn.ensemble import GradientBoostingRegressor\n",
    "from sklearn.model_selection import train_test_split\n",
    "from sklearn.metrics import mean_squared_error\n",
    "from sklearn.metrics import mean_absolute_error"
   ]
  },
  {
   "cell_type": "code",
   "execution_count": 3,
   "id": "30526e3a-3bb9-4cbb-a71f-fbc80e184d67",
   "metadata": {},
   "outputs": [],
   "source": [
    "import pandas as pd\n",
    "import numpy as np\n",
    "import matplotlib as pl"
   ]
  },
  {
   "cell_type": "code",
   "execution_count": 4,
   "id": "ab5128f2-f1e7-446b-a994-d19169fc99c6",
   "metadata": {},
   "outputs": [],
   "source": [
    "df = pd.read_csv('./winequality-red.csv')\n",
    "data = df.dropna()"
   ]
  },
  {
   "cell_type": "code",
   "execution_count": 5,
   "id": "72097482-9398-4242-8cfb-8fceec5920f6",
   "metadata": {},
   "outputs": [],
   "source": [
    "future = ['alcohol','citric acid','chlorides']\n",
    "X = data[future]\n",
    "y = data['quality']"
   ]
  },
  {
   "cell_type": "code",
   "execution_count": 8,
   "id": "c46ee483-ce86-467f-a4c0-3fe8a3b477be",
   "metadata": {},
   "outputs": [],
   "source": [
    "model1 = LinearRegression()\n",
    "model2 = LogisticRegression(max_iter=1000)\n",
    "model3 = DecisionTreeRegressor()\n",
    "model4 = RandomForestRegressor()\n",
    "model5 = SVR()\n",
    "model6 = KNeighborsRegressor()\n",
    "train_X, val_X , train_y, val_y = train_test_split(X,y,test_size=0.2, random_state=42)"
   ]
  },
  {
   "cell_type": "code",
   "execution_count": 9,
   "id": "031fcd0a-aab4-4467-8b86-17990a5b972f",
   "metadata": {
    "scrolled": true
   },
   "outputs": [
    {
     "name": "stdout",
     "output_type": "stream",
     "text": [
      "MSE1: 0.5361476237378573\n",
      "MSE2: 0.653125\n",
      "MSE3 0.753125\n",
      "MSE4 0.4865863624999999\n",
      "MSE5 0.5713061718986175\n",
      "MSE6 0.5356249999999999\n"
     ]
    }
   ],
   "source": [
    "model1.fit(train_X,train_y)\n",
    "model2.fit(train_X,train_y)\n",
    "model3.fit(train_X,train_y)\n",
    "model4.fit(train_X,train_y)\n",
    "model5.fit(train_X,train_y)\n",
    "model6.fit(train_X,train_y)\n",
    "y_pre1 = model1.predict(val_X)\n",
    "y_pre2 = model2.predict(val_X)\n",
    "y_pre3 = model3.predict(val_X)\n",
    "y_pre4 = model4.predict(val_X)\n",
    "y_pre5 = model5.predict(val_X)\n",
    "y_pre6 = model6.predict(val_X)\n",
    "mse1 = mean_squared_error(val_y, y_pre1)\n",
    "mse2 = mean_squared_error(val_y, y_pre2)\n",
    "mse3 = mean_squared_error(val_y, y_pre3)\n",
    "mse4 = mean_squared_error(val_y, y_pre4)\n",
    "mse5 = mean_squared_error(val_y, y_pre5)\n",
    "mse6 = mean_squared_error(val_y, y_pre6)\n",
    "print(\"MSE1:\",mse1)\n",
    "print(\"MSE2:\",mse2)\n",
    "print(\"MSE3\",mse3)\n",
    "print(\"MSE4\",mse4)\n",
    "print(\"MSE5\",mse5)\n",
    "print(\"MSE6\",mse6)"
   ]
  },
  {
   "cell_type": "code",
   "execution_count": null,
   "id": "26ef9f08-4df6-4e56-826d-60f3385b740d",
   "metadata": {},
   "outputs": [],
   "source": []
  }
 ],
 "metadata": {
  "kernelspec": {
   "display_name": "Python 3 (ipykernel)",
   "language": "python",
   "name": "python3"
  },
  "language_info": {
   "codemirror_mode": {
    "name": "ipython",
    "version": 3
   },
   "file_extension": ".py",
   "mimetype": "text/x-python",
   "name": "python",
   "nbconvert_exporter": "python",
   "pygments_lexer": "ipython3",
   "version": "3.11.4"
  }
 },
 "nbformat": 4,
 "nbformat_minor": 5
}
