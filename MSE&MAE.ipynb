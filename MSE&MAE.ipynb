{
 "cells": [
  {
   "cell_type": "code",
   "execution_count": 8,
   "id": "8b601406-8818-487e-a858-e7e28c1b73eb",
   "metadata": {},
   "outputs": [
    {
     "name": "stdout",
     "output_type": "stream",
     "text": [
      "Train_y 2    1465000.0\n",
      "6    1876000.0\n",
      "7    1636000.0\n",
      "Name: Price, dtype: float64\n",
      "Val_y 4    1600000.0\n",
      "1    1035000.0\n",
      "Name: Price, dtype: float64\n",
      "Train_X    Rooms  Distance  Bedroom2  Bathroom\n",
      "2      3       2.5       3.0       2.0\n",
      "6      3       2.5       4.0       2.0\n",
      "7      2       2.5       2.0       1.0\n",
      "Val_X    Rooms  Distance  Bedroom2  Bathroom\n",
      "4      4       2.5       3.0       1.0\n",
      "1      2       2.5       2.0       1.0\n",
      "MAE: 368000.0000000001\n",
      "MSE: 189712999999.9999\n",
      "[1465000. 1636000.]\n"
     ]
    }
   ],
   "source": [
    "import pandas as pd \n",
    "from sklearn.linear_model import LinearRegression\n",
    "from sklearn.metrics import mean_absolute_error,mean_squared_error\n",
    "from sklearn.model_selection import train_test_split\n",
    "# Đọc dữ liệu từ file CSV\n",
    "df = pd.read_csv(\"./melb_data.csv\")\n",
    "\n",
    "# Lọc dữ liệu và xóa các hàng có giá trị bị thiếu\n",
    "data = df.head(10).dropna(axis=0)\n",
    "\n",
    "# Chọn features (đặc trưng) và dữ liệu cần dự đoán\n",
    "features = ['Rooms', 'Distance', 'Bedroom2', 'Bathroom']\n",
    "X = data[features]\n",
    "y = data['Price']\n",
    "\n",
    "# Chia dữ liệu thành tập huấn luyện và tập validation\n",
    "train_X, val_X, train_y, val_y = train_test_split(X, y, test_size=0.3, random_state=0)\n",
    "\n",
    "# Tạo mô hình Linear Regression và huấn luyện trên tập huấn luyện\n",
    "model = LinearRegression()\n",
    "model.fit(train_X, train_y)\n",
    "\n",
    "# Dự đoán giá trị trên tập validation\n",
    "y_pred = model.predict(val_X)\n",
    "\n",
    "# Tính toán sai số trung bình tuyệt đối (MAE) và sai số trung bình bình phương (MSE)\n",
    "mae = mean_absolute_error(val_y, y_pred)\n",
    "mse = mean_squared_error(val_y, y_pred)\n",
    "#Dữ liệu train y (Những giá nhà trong dataset)\n",
    "print(\"Train_y\",train_y)\n",
    "# Dữ liệu thẩm định y (Giá nhà thực tế)\n",
    "print(\"Val_y\",val_y)\n",
    "#  Dữ liệu train X (Những cái data cần train cho model)\n",
    "print(\"Train_X\",train_X)\n",
    "# Dữ liệu thẩm định X ( Những cái data sẽ thẩm định )\n",
    "print(\"Val_X\",val_X)\n",
    "#\n",
    "print(\"MAE:\", mae)\n",
    "print(\"MSE:\", mse)\n",
    "print(y_pred)\n",
    "\n"
   ]
  },
  {
   "cell_type": "code",
   "execution_count": 1,
   "id": "228c3706-534c-4330-ba56-e2ed6b97b100",
   "metadata": {},
   "outputs": [
    {
     "name": "stdout",
     "output_type": "stream",
     "text": [
      "Predicted value: [12.]\n"
     ]
    }
   ],
   "source": [
    "import numpy as np\n",
    "from sklearn.linear_model import LinearRegression\n",
    "\n",
    "# Tạo dữ liệu huấn luyện\n",
    "X = np.array([[1], [2], [3], [4], [5]])\n",
    "y = np.array([2, 4, 6, 8, 10])\n",
    "\n",
    "# Tạo dữ liệu mới cần dự đoán\n",
    "X_new = np.array([[6]])\n",
    "\n",
    "# Tính toán trọng số cho mỗi điểm dữ liệu\n",
    "def calculate_weights(X, X_new, tau):\n",
    "    weights = np.exp(-np.sum((X - X_new)**2, axis=1) / (2 * tau**2))\n",
    "    return weights\n",
    "\n",
    "# Huấn luyện mô hình locally weighted regression và dự đoán giá trị mới\n",
    "def locally_weighted_regression(X, y, X_new, tau):\n",
    "    weights = calculate_weights(X, X_new, tau)\n",
    "    model = LinearRegression()\n",
    "    model.fit(X, y, sample_weight=weights)\n",
    "    y_pred = model.predict(X_new)\n",
    "    return y_pred\n",
    "\n",
    "# Dự đoán giá trị mới với tau = 0.5\n",
    "y_pred = locally_weighted_regression(X, y, X_new, 0.5)\n",
    "print(\"Predicted value:\", y_pred)\n"
   ]
  },
  {
   "cell_type": "code",
   "execution_count": 2,
   "id": "9af95845",
   "metadata": {},
   "outputs": [
    {
     "name": "stdout",
     "output_type": "stream",
     "text": [
      "Predicted probability: [[0.50653174 0.49346826]]\n"
     ]
    }
   ],
   "source": [
    "import numpy as np\n",
    "from sklearn.linear_model import LogisticRegression\n",
    "\n",
    "# Tạo dữ liệu huấn luyện\n",
    "X = np.array([[2], [4], [5], [7], [8]])\n",
    "y = np.array([0, 0, 0, 1, 1])\n",
    "\n",
    "# Khởi tạo và huấn luyện mô hình logistic regression\n",
    "model = LogisticRegression()\n",
    "model.fit(X, y)\n",
    "\n",
    "# Dự đoán xác suất mới\n",
    "X_new = np.array([[6]])\n",
    "y_pred_proba = model.predict_proba(X_new)\n",
    "print(\"Predicted probability:\", y_pred_proba)\n"
   ]
  }
 ],
 "metadata": {
  "kernelspec": {
   "display_name": "Python 3 (ipykernel)",
   "language": "python",
   "name": "python3"
  },
  "language_info": {
   "codemirror_mode": {
    "name": "ipython",
    "version": 3
   },
   "file_extension": ".py",
   "mimetype": "text/x-python",
   "name": "python",
   "nbconvert_exporter": "python",
   "pygments_lexer": "ipython3",
   "version": "3.11.4"
  }
 },
 "nbformat": 4,
 "nbformat_minor": 5
}
